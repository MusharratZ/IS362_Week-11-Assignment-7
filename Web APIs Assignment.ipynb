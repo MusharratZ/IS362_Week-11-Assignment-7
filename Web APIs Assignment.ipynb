{
 "cells": [
  {
   "cell_type": "code",
   "execution_count": 1,
   "id": "5aad163d",
   "metadata": {},
   "outputs": [],
   "source": [
    "import pandas as pd\n",
    "import requests\n",
    "\n",
    "# The API url\n",
    "api_url = \"https://api.nytimes.com/svc/search/v2/articlesearch.json\""
   ]
  },
  {
   "cell_type": "code",
   "execution_count": 2,
   "id": "1005326c",
   "metadata": {},
   "outputs": [],
   "source": [
    "# The query parameters for the url\n",
    "params = {\n",
    "    \"fq\": 'section_name:\"Movies\" AND type_of_material:\"Review\"',\n",
    "    \"sort\": \"newest\",\n",
    "    \"page\": 0,\n",
    "    \"api-key\": \"RGG4QyzP8IDkeD6OzIGqaL7AZE8A6Iy3\"\n",
    "}\n",
    "\n",
    "# Testing the API\n",
    "response = requests.get(api_url, params=params)"
   ]
  },
  {
   "cell_type": "code",
   "execution_count": 3,
   "id": "2bd40a8b",
   "metadata": {},
   "outputs": [],
   "source": [
    "# Error handling, Checking whether a request was successfully made\n",
    "if response.status_code != 200:\n",
    "    print(\"Error: Failed to fetch data from the API.\")\n",
    "    print(f\"Status Code: {response.status_code}\")\n",
    "    exit()\n",
    "\n",
    "# Parse the JSON response\n",
    "data = response.json()"
   ]
  },
  {
   "cell_type": "code",
   "execution_count": 4,
   "id": "ecb1e196",
   "metadata": {},
   "outputs": [],
   "source": [
    "# Extract relevant data from the json file\n",
    "articles = data.get('response', {}).get('docs', [])\n",
    "\n",
    "# Creating lists to store values for each field\n",
    "abstracts = []\n",
    "web_urls = []\n",
    "snippets = []\n",
    "lead_paragraphs = []\n",
    "print_sections = []\n",
    "print_pages = []\n",
    "sources = []\n",
    "multimedia_urls = []"
   ]
  },
  {
   "cell_type": "code",
   "execution_count": 5,
   "id": "c84b7b8f",
   "metadata": {},
   "outputs": [],
   "source": [
    "# Data extraction ofr each article\n",
    "for article in articles:\n",
    "    abstracts.append(article.get('abstract', ''))\n",
    "    web_urls.append(article.get('web_url', ''))\n",
    "    snippets.append(article.get('snippet', ''))\n",
    "    lead_paragraphs.append(article.get('lead_paragraph', ''))\n",
    "    print_sections.append(article.get('print_section', ''))\n",
    "    print_pages.append(article.get('print_page', ''))\n",
    "    sources.append(article.get('source', ''))\n",
    "    multimedia_urls.append(article['multimedia'][0]['url'] if article.get('multimedia') else '')"
   ]
  },
  {
   "cell_type": "code",
   "execution_count": 6,
   "id": "81753b6d",
   "metadata": {},
   "outputs": [],
   "source": [
    "# Creation of a DataFrame\n",
    "df = pd.DataFrame({\n",
    "    'Abstract': abstracts,\n",
    "    'Web URL': web_urls,\n",
    "    'Snippet': snippets,\n",
    "    'Lead Paragraph': lead_paragraphs,\n",
    "    'Print Section': print_sections,\n",
    "    'Print Page': print_pages,\n",
    "    'Source': sources,\n",
    "    'Multimedia URL': multimedia_urls\n",
    "})"
   ]
  },
  {
   "cell_type": "code",
   "execution_count": 8,
   "id": "6b88005e",
   "metadata": {},
   "outputs": [
    {
     "name": "stdout",
     "output_type": "stream",
     "text": [
      "                                            Abstract  \\\n",
      "0  Despite its Parisian setting, the setup is fam...   \n",
      "1  Dev Patel stars as Kid, a human punching bag w...   \n",
      "2  Audience members revolting against bad art isn...   \n",
      "3  In 2019, the prince went on air to respond to ...   \n",
      "4  Pure chaos is at play in a scrappy and unautho...   \n",
      "5  This documentary details how the coolest video...   \n",
      "6  Sad news forces a diverse group of friends to ...   \n",
      "7  Balancing confidence with broad smiles, the hi...   \n",
      "8  A prequel to the original franchise, this debu...   \n",
      "9  In this madcap film, a mother’s apology leads ...   \n",
      "\n",
      "                                             Web URL  \\\n",
      "0  https://www.nytimes.com/2024/04/04/movies/coup...   \n",
      "1  https://www.nytimes.com/2024/04/04/movies/monk...   \n",
      "2  https://www.nytimes.com/2024/04/04/movies/yann...   \n",
      "3  https://www.nytimes.com/2024/04/04/movies/scoo...   \n",
      "4  https://www.nytimes.com/2024/04/04/movies/the-...   \n",
      "5  https://www.nytimes.com/2024/04/04/movies/kims...   \n",
      "6  https://www.nytimes.com/2024/04/04/movies/hous...   \n",
      "7  https://www.nytimes.com/2024/04/04/movies/girl...   \n",
      "8  https://www.nytimes.com/2024/04/04/movies/the-...   \n",
      "9  https://www.nytimes.com/2024/04/04/movies/chic...   \n",
      "\n",
      "                                             Snippet  \\\n",
      "0  Despite its Parisian setting, the setup is fam...   \n",
      "1  Dev Patel stars as Kid, a human punching bag w...   \n",
      "2  Audience members revolting against bad art isn...   \n",
      "3  In 2019, the prince went on air to respond to ...   \n",
      "4  Pure chaos is at play in a scrappy and unautho...   \n",
      "5  This documentary details how the coolest video...   \n",
      "6  Sad news forces a diverse group of friends to ...   \n",
      "7  Balancing confidence with broad smiles, the hi...   \n",
      "8  A prequel to the original franchise, this debu...   \n",
      "9  In this madcap film, a mother’s apology leads ...   \n",
      "\n",
      "                                      Lead Paragraph Print Section Print Page  \\\n",
      "0  “Coup de Chance,” the latest from Woody Allen,...             C          5   \n",
      "1  The thriller “Monkey Man” opens on a tender sc...             C          4   \n",
      "2  At first glance, you might think that with aro...             C          7   \n",
      "3  The exposés that brought public attention to W...             C          7   \n",
      "4  The director Vera Drew got in hot water making...             C          7   \n",
      "5  Longtime New Yorkers of bohemian bent may be i...             C          7   \n",
      "6  For his third feature, “Housekeeping for Begin...             C          7   \n",
      "7  In 2018, over 1,000 boys gathered in Texas for...             C          6   \n",
      "8  If the “Omen” franchise left us with memorable...             C          7   \n",
      "9  In the animated French feature “Chicken for Li...             C          7   \n",
      "\n",
      "               Source                                     Multimedia URL  \n",
      "0  The New York Times  images/2024/04/04/multimedia/04coup-de-chance-...  \n",
      "1  The New York Times  images/2024/04/04/multimedia/04monkeyman-revie...  \n",
      "2  The New York Times  images/2024/04/05/multimedia/yannick1-mtqb/yan...  \n",
      "3  The New York Times  images/2024/04/04/multimedia/04scoop-review2-c...  \n",
      "4  The New York Times  images/2024/04/01/multimedia/peoples1-mpjl/peo...  \n",
      "5  The New York Times  images/2024/04/04/multimedia/04kimsvideo-revie...  \n",
      "6  The New York Times  images/2024/04/05/multimedia/housekeeping1-wvh...  \n",
      "7  The New York Times  images/2024/04/05/multimedia/04girls-state-rev...  \n",
      "8  The New York Times  images/2024/04/05/multimedia/omen1-pqjm/omen1-...  \n",
      "9  The New York Times  images/2024/04/02/multimedia/chickenforlinda1-...  \n"
     ]
    }
   ],
   "source": [
    "# Displaying the contents of the DataFrame\n",
    "print(df)"
   ]
  },
  {
   "cell_type": "code",
   "execution_count": null,
   "id": "748b1297",
   "metadata": {},
   "outputs": [],
   "source": []
  }
 ],
 "metadata": {
  "kernelspec": {
   "display_name": "Python 3 (ipykernel)",
   "language": "python",
   "name": "python3"
  },
  "language_info": {
   "codemirror_mode": {
    "name": "ipython",
    "version": 3
   },
   "file_extension": ".py",
   "mimetype": "text/x-python",
   "name": "python",
   "nbconvert_exporter": "python",
   "pygments_lexer": "ipython3",
   "version": "3.11.8"
  }
 },
 "nbformat": 4,
 "nbformat_minor": 5
}
